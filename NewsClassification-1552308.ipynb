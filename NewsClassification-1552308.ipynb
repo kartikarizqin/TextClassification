{
 "cells": [
  {
   "cell_type": "code",
   "execution_count": 47,
   "metadata": {},
   "outputs": [],
   "source": [
    "import csv,numpy,pandas,nltk\n",
    "import sklearn\n",
    "from sklearn.feature_extraction.text import CountVectorizer,TfidfTransformer\n",
    "import time\n",
    "import re\n",
    "import numpy as np\n",
    "from nltk.tokenize import word_tokenize #import word_tokenize for tokenizing text into words \n",
    "from nltk.corpus import stopwords #import stopwords\n",
    "from collections import Counter\n",
    "from nltk.stem.porter import PorterStemmer #import Porter Stemmer Algorithm \n",
    "from textblob import TextBlob\n",
    "from textblob.classifiers import NaiveBayesClassifier"
   ]
  },
  {
   "cell_type": "code",
   "execution_count": 48,
   "metadata": {},
   "outputs": [
    {
     "data": {
      "text/html": [
       "<div>\n",
       "<style scoped>\n",
       "    .dataframe tbody tr th:only-of-type {\n",
       "        vertical-align: middle;\n",
       "    }\n",
       "\n",
       "    .dataframe tbody tr th {\n",
       "        vertical-align: top;\n",
       "    }\n",
       "\n",
       "    .dataframe thead th {\n",
       "        text-align: right;\n",
       "    }\n",
       "</style>\n",
       "<table border=\"1\" class=\"dataframe\">\n",
       "  <thead>\n",
       "    <tr style=\"text-align: right;\">\n",
       "      <th></th>\n",
       "      <th>Label</th>\n",
       "      <th>Description</th>\n",
       "    </tr>\n",
       "  </thead>\n",
       "  <tbody>\n",
       "    <tr>\n",
       "      <th>0</th>\n",
       "      <td>4</td>\n",
       "      <td>A little-known, Boston-area startup is beta-te...</td>\n",
       "    </tr>\n",
       "    <tr>\n",
       "      <th>1</th>\n",
       "      <td>4</td>\n",
       "      <td>The U.S. needs to overhaul its education syste...</td>\n",
       "    </tr>\n",
       "    <tr>\n",
       "      <th>2</th>\n",
       "      <td>4</td>\n",
       "      <td>Executives from Sprintand Nextel Communication...</td>\n",
       "    </tr>\n",
       "    <tr>\n",
       "      <th>3</th>\n",
       "      <td>4</td>\n",
       "      <td>Neon Systems, a provider of mainframe integrat...</td>\n",
       "    </tr>\n",
       "    <tr>\n",
       "      <th>4</th>\n",
       "      <td>4</td>\n",
       "      <td>NEC and Toshiba have made two advancements in ...</td>\n",
       "    </tr>\n",
       "  </tbody>\n",
       "</table>\n",
       "</div>"
      ],
      "text/plain": [
       "   Label                                        Description\n",
       "0      4  A little-known, Boston-area startup is beta-te...\n",
       "1      4  The U.S. needs to overhaul its education syste...\n",
       "2      4  Executives from Sprintand Nextel Communication...\n",
       "3      4  Neon Systems, a provider of mainframe integrat...\n",
       "4      4  NEC and Toshiba have made two advancements in ..."
      ]
     },
     "execution_count": 48,
     "metadata": {},
     "output_type": "execute_result"
    }
   ],
   "source": [
    "datatrain = pandas.read_excel('data/fixeddatatraining.xlsx')\n",
    "label = datatrain[\"Label\"].tolist()\n",
    "desc = datatrain[\"Description\"].tolist()\n",
    "datatrain.head()"
   ]
  },
  {
   "cell_type": "code",
   "execution_count": 67,
   "metadata": {},
   "outputs": [
    {
     "data": {
      "text/html": [
       "<div>\n",
       "<style scoped>\n",
       "    .dataframe tbody tr th:only-of-type {\n",
       "        vertical-align: middle;\n",
       "    }\n",
       "\n",
       "    .dataframe tbody tr th {\n",
       "        vertical-align: top;\n",
       "    }\n",
       "\n",
       "    .dataframe thead th {\n",
       "        text-align: right;\n",
       "    }\n",
       "</style>\n",
       "<table border=\"1\" class=\"dataframe\">\n",
       "  <thead>\n",
       "    <tr style=\"text-align: right;\">\n",
       "      <th></th>\n",
       "      <th>Label</th>\n",
       "      <th>Description</th>\n",
       "    </tr>\n",
       "  </thead>\n",
       "  <tbody>\n",
       "    <tr>\n",
       "      <th>0</th>\n",
       "      <td>3</td>\n",
       "      <td>Unions representing workers at Turner   Newall...</td>\n",
       "    </tr>\n",
       "    <tr>\n",
       "      <th>1</th>\n",
       "      <td>4</td>\n",
       "      <td>SPACE.com - TORONTO, Canada -- A second\\team o...</td>\n",
       "    </tr>\n",
       "    <tr>\n",
       "      <th>2</th>\n",
       "      <td>4</td>\n",
       "      <td>AP - A company founded by a chemistry research...</td>\n",
       "    </tr>\n",
       "    <tr>\n",
       "      <th>3</th>\n",
       "      <td>4</td>\n",
       "      <td>AP - It's barely dawn when Mike Fitzpatrick st...</td>\n",
       "    </tr>\n",
       "    <tr>\n",
       "      <th>4</th>\n",
       "      <td>4</td>\n",
       "      <td>AP - Southern California's smog-fighting agenc...</td>\n",
       "    </tr>\n",
       "  </tbody>\n",
       "</table>\n",
       "</div>"
      ],
      "text/plain": [
       "   Label                                        Description\n",
       "0      3  Unions representing workers at Turner   Newall...\n",
       "1      4  SPACE.com - TORONTO, Canada -- A second\\team o...\n",
       "2      4  AP - A company founded by a chemistry research...\n",
       "3      4  AP - It's barely dawn when Mike Fitzpatrick st...\n",
       "4      4  AP - Southern California's smog-fighting agenc..."
      ]
     },
     "execution_count": 67,
     "metadata": {},
     "output_type": "execute_result"
    }
   ],
   "source": [
    "datatest = pandas.read_excel('data/fixeddatatesting.xlsx')\n",
    "labelt = datatest[\"Label\"].tolist()\n",
    "desct = datatest[\"Description\"].tolist()\n",
    "datatest.head()"
   ]
  },
  {
   "cell_type": "code",
   "execution_count": 50,
   "metadata": {},
   "outputs": [
    {
     "name": "stdout",
     "output_type": "stream",
     "text": [
      "Label\n",
      "1    508\n",
      "2    533\n",
      "3    579\n",
      "4    479\n",
      "dtype: int64\n",
      "Notes :\n",
      "1 : World\n",
      "2 : Sports\n",
      "3 : Business\n",
      "4 : Sci Tech\n"
     ]
    }
   ],
   "source": [
    "groupby= datatrain.groupby('Label').size()\n",
    "print (groupby)\n",
    "print(\"Notes :\\n1 : World\\n2 : Sports\\n3 : Business\\n4 : Sci Tech\")"
   ]
  },
  {
   "cell_type": "code",
   "execution_count": 66,
   "metadata": {},
   "outputs": [],
   "source": [
    "def clean_data(data):\n",
    "        text = ' '.join(re.sub('https?://[A-Za-z0-9./]+','',data).split())\n",
    "        text = ' '.join(re.sub(\"[^a-zA-Z]\", \" \", text).split())\n",
    "        text = text.lower().split()\n",
    "        return text\n",
    "\n",
    "cleaned= []\n",
    "i = 0\n",
    "while i < len(desc):\n",
    "    result = clean_data(desc[i])\n",
    "    result = ' '.join(result)\n",
    "    cleaned.append(result)\n",
    "    i += 1\n",
    "    \n",
    "# print(cleaned)"
   ]
  },
  {
   "cell_type": "code",
   "execution_count": 65,
   "metadata": {},
   "outputs": [],
   "source": [
    "stop_words = set(stopwords.words('english'))\n",
    "def stpword(str):\n",
    "    word_tokens = word_tokenize(str) \n",
    "    filtered_sentence = [w for w in word_tokens if not w in stop_words]  \n",
    "    filtered_sentence = [] \n",
    "    \n",
    "    for w in word_tokens: \n",
    "        if w not in stop_words: \n",
    "            filtered_sentence.append(w)\n",
    "    return filtered_sentence\n",
    "\n",
    "stpwrd = []\n",
    "i = 0\n",
    "while i < len(desc):\n",
    "    new = ' '.join(stpword(cleaned[i]))\n",
    "    stpwrd.append(new)\n",
    "    i += 1\n",
    "    \n",
    "# print(stpwrd)"
   ]
  },
  {
   "cell_type": "code",
   "execution_count": 60,
   "metadata": {},
   "outputs": [],
   "source": [
    "record = []\n",
    "j = 0\n",
    "while j < len(label):\n",
    "    train = (stpwrd[j], label[j])\n",
    "    record.append(train)\n",
    "    j += 1\n",
    "    \n",
    "# print(record)"
   ]
  },
  {
   "cell_type": "code",
   "execution_count": null,
   "metadata": {},
   "outputs": [],
   "source": [
    "nbc = NaiveBayesClassifier(record)\n",
    "#cl.classify(\"I feel amazing!\")\n",
    "blob = TextBlob(\"indonesia take a part in united nations security council\", classifier=nbc)\n",
    "print(blob.classify())"
   ]
  },
  {
   "cell_type": "code",
   "execution_count": 20,
   "metadata": {},
   "outputs": [
    {
     "name": "stdout",
     "output_type": "stream",
     "text": [
      "2\n"
     ]
    }
   ],
   "source": [
    "nbc = NaiveBayesClassifier(record)\n",
    "#cl.classify(\"I feel amazing!\")\n",
    "blob = TextBlob(\"football match held in sea games\", classifier=nbc)\n",
    "print(blob.classify())"
   ]
  },
  {
   "cell_type": "code",
   "execution_count": 21,
   "metadata": {},
   "outputs": [
    {
     "name": "stdout",
     "output_type": "stream",
     "text": [
      "3\n"
     ]
    }
   ],
   "source": [
    "nbc = NaiveBayesClassifier(record)\n",
    "#cl.classify(\"I feel amazing!\")\n",
    "blob = TextBlob(\"economic forum proposed resolution in financial issues\", classifier=nbc)\n",
    "print(blob.classify())"
   ]
  },
  {
   "cell_type": "code",
   "execution_count": 18,
   "metadata": {},
   "outputs": [
    {
     "name": "stdout",
     "output_type": "stream",
     "text": [
      "4\n"
     ]
    }
   ],
   "source": [
    "nbc = NaiveBayesClassifier(record)\n",
    "#cl.classify(\"I feel amazing!\")\n",
    "blob = TextBlob(\"exploration moon planets solar system\", classifier=nbc)\n",
    "print(blob.classify())"
   ]
  },
  {
   "cell_type": "code",
   "execution_count": 71,
   "metadata": {},
   "outputs": [
    {
     "name": "stdout",
     "output_type": "stream",
     "text": [
      "Result === Actual\n",
      "1 === 3\n",
      "1 === 4\n",
      "1 === 4\n",
      "1 === 4\n",
      "1 === 4\n",
      "1 === 4\n",
      "1 === 4\n",
      "1 === 4\n",
      "1 === 4\n",
      "1 === 4\n",
      "1 === 4\n",
      "1 === 4\n",
      "1 === 4\n",
      "1 === 4\n",
      "1 === 4\n",
      "1 === 4\n",
      "1 === 4\n",
      "1 === 4\n",
      "1 === 4\n",
      "1 === 4\n",
      "1 === 4\n",
      "1 === 4\n",
      "1 === 4\n",
      "1 === 4\n",
      "1 === 4\n",
      "1 === 4\n",
      "1 === 2\n",
      "1 === 2\n",
      "1 === 2\n",
      "1 === 2\n",
      "1 === 2\n",
      "1 === 2\n",
      "1 === 1\n",
      "1 === 1\n",
      "1 === 1\n",
      "1 === 1\n",
      "1 === 1\n",
      "1 === 1\n",
      "1 === 1\n",
      "1 === 2\n",
      "1 === 3\n",
      "1 === 1\n",
      "1 === 4\n",
      "1 === 2\n",
      "1 === 2\n",
      "1 === 1\n",
      "1 === 4\n",
      "1 === 1\n",
      "1 === 2\n",
      "1 === 1\n",
      "1 === 2\n",
      "1 === 1\n",
      "1 === 4\n",
      "1 === 3\n",
      "1 === 4\n",
      "1 === 1\n",
      "1 === 1\n",
      "1 === 3\n",
      "1 === 3\n",
      "1 === 2\n",
      "1 === 2\n",
      "1 === 2\n",
      "1 === 4\n",
      "1 === 1\n",
      "1 === 4\n",
      "1 === 1\n",
      "1 === 1\n",
      "1 === 2\n",
      "1 === 1\n",
      "1 === 4\n",
      "1 === 4\n",
      "1 === 4\n",
      "1 === 1\n",
      "1 === 4\n",
      "1 === 2\n",
      "1 === 1\n",
      "1 === 2\n",
      "1 === 1\n",
      "1 === 1\n",
      "1 === 1\n",
      "1 === 2\n",
      "1 === 3\n",
      "1 === 3\n",
      "1 === 1\n",
      "1 === 1\n",
      "1 === 1\n",
      "1 === 1\n",
      "1 === 4\n",
      "1 === 3\n",
      "1 === 4\n",
      "1 === 3\n",
      "1 === 2\n",
      "1 === 2\n",
      "1 === 3\n",
      "1 === 1\n",
      "1 === 3\n",
      "1 === 2\n",
      "1 === 3\n",
      "1 === 3\n",
      "1 === 1\n",
      "1 === 2\n",
      "1 === 1\n",
      "1 === 2\n",
      "1 === 1\n",
      "1 === 4\n",
      "1 === 3\n",
      "1 === 4\n",
      "1 === 4\n",
      "1 === 4\n",
      "1 === 4\n",
      "1 === 2\n",
      "1 === 4\n",
      "1 === 4\n",
      "1 === 2\n",
      "1 === 1\n",
      "1 === 2\n",
      "1 === 4\n",
      "1 === 1\n",
      "1 === 4\n",
      "1 === 3\n",
      "1 === 2\n",
      "1 === 2\n",
      "1 === 1\n",
      "1 === 1\n",
      "1 === 1\n",
      "1 === 2\n",
      "1 === 1\n",
      "1 === 2\n",
      "1 === 2\n",
      "1 === 1\n",
      "1 === 2\n",
      "1 === 1\n",
      "1 === 2\n",
      "1 === 1\n",
      "1 === 2\n",
      "1 === 1\n",
      "1 === 1\n",
      "1 === 1\n",
      "1 === 3\n",
      "1 === 2\n",
      "1 === 2\n",
      "1 === 2\n"
     ]
    }
   ],
   "source": [
    "cleanedt = []\n",
    "i = 0\n",
    "while i < len(desct):\n",
    "    result = clean_data(desct[i])\n",
    "    result = ' '.join(result)\n",
    "    cleanedt.append(result)\n",
    "    i += 1\n",
    "\n",
    "stpwrdt = []\n",
    "i = 0\n",
    "while i < len(desct):\n",
    "    new = ' '.join(stpword(cleanedt[i]))\n",
    "    stpwrdt.append(new)\n",
    "    i += 1\n",
    "    \n",
    "testing = NaiveBayesClassifier(record)\n",
    "j = 0\n",
    "print(\"Result === Actual\")\n",
    "while j < len(datatest):\n",
    "    tb = TextBlob(stpwrdt[j], classifier=nbc)\n",
    "    print(blob.classify() , \"===\" , labelt[j])\n",
    "    j += 1"
   ]
  },
  {
   "cell_type": "code",
   "execution_count": null,
   "metadata": {},
   "outputs": [],
   "source": []
  }
 ],
 "metadata": {
  "kernelspec": {
   "display_name": "Python 3",
   "language": "python",
   "name": "python3"
  }
 },
 "nbformat": 4,
 "nbformat_minor": 2
}
